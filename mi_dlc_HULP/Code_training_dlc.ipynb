{
 "cells": [
  {
   "cell_type": "code",
   "execution_count": 2,
   "id": "7f588659",
   "metadata": {},
   "outputs": [
    {
     "name": "stdout",
     "output_type": "stream",
     "text": [
      "Requirement already satisfied: deeplabcut in c:\\users\\ainho\\anaconda3\\envs\\deeplabcut\\lib\\site-packages (2.2.0.2)\n",
      "Requirement already satisfied: pandas>=1.0.1 in c:\\users\\ainho\\anaconda3\\envs\\deeplabcut\\lib\\site-packages (from deeplabcut) (1.3.4)\n",
      "Requirement already satisfied: filterpy in c:\\users\\ainho\\anaconda3\\envs\\deeplabcut\\lib\\site-packages (from deeplabcut) (1.4.5)\n",
      "Requirement already satisfied: matplotlib in c:\\users\\ainho\\anaconda3\\envs\\deeplabcut\\lib\\site-packages (from deeplabcut) (3.4.3)\n",
      "Requirement already satisfied: moviepy in c:\\users\\ainho\\anaconda3\\envs\\deeplabcut\\lib\\site-packages (from deeplabcut) (1.0.3)\n",
      "Requirement already satisfied: numba in c:\\users\\ainho\\anaconda3\\envs\\deeplabcut\\lib\\site-packages (from deeplabcut) (0.54.1)\n",
      "Requirement already satisfied: ipython in c:\\users\\ainho\\anaconda3\\envs\\deeplabcut\\lib\\site-packages (from deeplabcut) (7.28.0)\n",
      "Requirement already satisfied: opencv-python-headless in c:\\users\\ainho\\anaconda3\\envs\\deeplabcut\\lib\\site-packages (from deeplabcut) (4.5.3.56)\n",
      "Requirement already satisfied: scikit-image>=0.17 in c:\\users\\ainho\\anaconda3\\envs\\deeplabcut\\lib\\site-packages (from deeplabcut) (0.18.3)\n",
      "Requirement already satisfied: scipy>=1.4 in c:\\users\\ainho\\anaconda3\\envs\\deeplabcut\\lib\\site-packages (from deeplabcut) (1.7.1)\n",
      "Requirement already satisfied: tensorflow>=2.0 in c:\\users\\ainho\\anaconda3\\envs\\deeplabcut\\lib\\site-packages (from deeplabcut) (2.6.0)\n",
      "Requirement already satisfied: scikit-learn in c:\\users\\ainho\\anaconda3\\envs\\deeplabcut\\lib\\site-packages (from deeplabcut) (1.0)\n",
      "Requirement already satisfied: imgaug>=0.4.0 in c:\\users\\ainho\\anaconda3\\envs\\deeplabcut\\lib\\site-packages (from deeplabcut) (0.4.0)\n",
      "Requirement already satisfied: tqdm in c:\\users\\ainho\\anaconda3\\envs\\deeplabcut\\lib\\site-packages (from deeplabcut) (4.62.3)\n",
      "Requirement already satisfied: tensorpack in c:\\users\\ainho\\anaconda3\\envs\\deeplabcut\\lib\\site-packages (from deeplabcut) (0.11)\n",
      "Requirement already satisfied: numpy in c:\\users\\ainho\\anaconda3\\envs\\deeplabcut\\lib\\site-packages (from deeplabcut) (1.19.5)\n",
      "Requirement already satisfied: tables in c:\\users\\ainho\\anaconda3\\envs\\deeplabcut\\lib\\site-packages (from deeplabcut) (3.6.1)\n",
      "Requirement already satisfied: statsmodels>=0.11 in c:\\users\\ainho\\anaconda3\\envs\\deeplabcut\\lib\\site-packages (from deeplabcut) (0.13.0)\n",
      "Requirement already satisfied: pyyaml in c:\\users\\ainho\\anaconda3\\envs\\deeplabcut\\lib\\site-packages (from deeplabcut) (6.0)\n",
      "Requirement already satisfied: networkx in c:\\users\\ainho\\anaconda3\\envs\\deeplabcut\\lib\\site-packages (from deeplabcut) (2.6.3)\n",
      "Requirement already satisfied: Pillow>=7.1 in c:\\users\\ainho\\anaconda3\\envs\\deeplabcut\\lib\\site-packages (from deeplabcut) (8.4.0)\n",
      "Requirement already satisfied: tf-slim in c:\\users\\ainho\\anaconda3\\envs\\deeplabcut\\lib\\site-packages (from deeplabcut) (1.1.0)\n",
      "Requirement already satisfied: ruamel.yaml>=0.15.0 in c:\\users\\ainho\\anaconda3\\envs\\deeplabcut\\lib\\site-packages (from deeplabcut) (0.17.16)\n",
      "Requirement already satisfied: Shapely in c:\\users\\ainho\\anaconda3\\envs\\deeplabcut\\lib\\site-packages (from imgaug>=0.4.0->deeplabcut) (1.7.1)\n",
      "Requirement already satisfied: six in c:\\users\\ainho\\anaconda3\\envs\\deeplabcut\\lib\\site-packages (from imgaug>=0.4.0->deeplabcut) (1.15.0)\n",
      "Requirement already satisfied: opencv-python in c:\\users\\ainho\\anaconda3\\envs\\deeplabcut\\lib\\site-packages (from imgaug>=0.4.0->deeplabcut) (4.5.3.56)\n",
      "Requirement already satisfied: imageio in c:\\users\\ainho\\anaconda3\\envs\\deeplabcut\\lib\\site-packages (from imgaug>=0.4.0->deeplabcut) (2.9.0)\n",
      "Requirement already satisfied: python-dateutil>=2.7.3 in c:\\users\\ainho\\anaconda3\\envs\\deeplabcut\\lib\\site-packages (from pandas>=1.0.1->deeplabcut) (2.8.2)\n",
      "Requirement already satisfied: pytz>=2017.3 in c:\\users\\ainho\\anaconda3\\envs\\deeplabcut\\lib\\site-packages (from pandas>=1.0.1->deeplabcut) (2021.3)\n",
      "Requirement already satisfied: ruamel.yaml.clib>=0.1.2 in c:\\users\\ainho\\anaconda3\\envs\\deeplabcut\\lib\\site-packages (from ruamel.yaml>=0.15.0->deeplabcut) (0.2.6)\n",
      "Requirement already satisfied: tifffile>=2019.7.26 in c:\\users\\ainho\\anaconda3\\envs\\deeplabcut\\lib\\site-packages (from scikit-image>=0.17->deeplabcut) (2021.10.12)\n",
      "Requirement already satisfied: PyWavelets>=1.1.1 in c:\\users\\ainho\\anaconda3\\envs\\deeplabcut\\lib\\site-packages (from scikit-image>=0.17->deeplabcut) (1.1.1)\n",
      "Requirement already satisfied: cycler>=0.10 in c:\\users\\ainho\\anaconda3\\envs\\deeplabcut\\lib\\site-packages (from matplotlib->deeplabcut) (0.10.0)\n",
      "Requirement already satisfied: kiwisolver>=1.0.1 in c:\\users\\ainho\\anaconda3\\envs\\deeplabcut\\lib\\site-packages (from matplotlib->deeplabcut) (1.3.2)\n",
      "Requirement already satisfied: pyparsing>=2.2.1 in c:\\users\\ainho\\anaconda3\\envs\\deeplabcut\\lib\\site-packages (from matplotlib->deeplabcut) (2.4.7)\n",
      "Requirement already satisfied: patsy>=0.5.2 in c:\\users\\ainho\\anaconda3\\envs\\deeplabcut\\lib\\site-packages (from statsmodels>=0.11->deeplabcut) (0.5.2)\n",
      "Requirement already satisfied: wheel~=0.35 in c:\\users\\ainho\\anaconda3\\envs\\deeplabcut\\lib\\site-packages (from tensorflow>=2.0->deeplabcut) (0.37.0)\n",
      "Requirement already satisfied: protobuf>=3.9.2 in c:\\users\\ainho\\anaconda3\\envs\\deeplabcut\\lib\\site-packages (from tensorflow>=2.0->deeplabcut) (3.18.1)\n",
      "Requirement already satisfied: grpcio<2.0,>=1.37.0 in c:\\users\\ainho\\anaconda3\\envs\\deeplabcut\\lib\\site-packages (from tensorflow>=2.0->deeplabcut) (1.41.0)\n",
      "Requirement already satisfied: gast==0.4.0 in c:\\users\\ainho\\anaconda3\\envs\\deeplabcut\\lib\\site-packages (from tensorflow>=2.0->deeplabcut) (0.4.0)\n",
      "Requirement already satisfied: absl-py~=0.10 in c:\\users\\ainho\\anaconda3\\envs\\deeplabcut\\lib\\site-packages (from tensorflow>=2.0->deeplabcut) (0.14.1)\n",
      "Requirement already satisfied: keras-preprocessing~=1.1.2 in c:\\users\\ainho\\anaconda3\\envs\\deeplabcut\\lib\\site-packages (from tensorflow>=2.0->deeplabcut) (1.1.2)\n",
      "Requirement already satisfied: flatbuffers~=1.12.0 in c:\\users\\ainho\\anaconda3\\envs\\deeplabcut\\lib\\site-packages (from tensorflow>=2.0->deeplabcut) (1.12)\n",
      "Requirement already satisfied: opt-einsum~=3.3.0 in c:\\users\\ainho\\anaconda3\\envs\\deeplabcut\\lib\\site-packages (from tensorflow>=2.0->deeplabcut) (3.3.0)\n",
      "Requirement already satisfied: typing-extensions~=3.7.4 in c:\\users\\ainho\\anaconda3\\envs\\deeplabcut\\lib\\site-packages (from tensorflow>=2.0->deeplabcut) (3.7.4.3)\n",
      "Requirement already satisfied: keras~=2.6 in c:\\users\\ainho\\anaconda3\\envs\\deeplabcut\\lib\\site-packages (from tensorflow>=2.0->deeplabcut) (2.6.0)\n",
      "Requirement already satisfied: google-pasta~=0.2 in c:\\users\\ainho\\anaconda3\\envs\\deeplabcut\\lib\\site-packages (from tensorflow>=2.0->deeplabcut) (0.2.0)\n",
      "Requirement already satisfied: wrapt~=1.12.1 in c:\\users\\ainho\\anaconda3\\envs\\deeplabcut\\lib\\site-packages (from tensorflow>=2.0->deeplabcut) (1.12.1)\n",
      "Requirement already satisfied: clang~=5.0 in c:\\users\\ainho\\anaconda3\\envs\\deeplabcut\\lib\\site-packages (from tensorflow>=2.0->deeplabcut) (5.0)\n",
      "Requirement already satisfied: tensorflow-estimator~=2.6 in c:\\users\\ainho\\anaconda3\\envs\\deeplabcut\\lib\\site-packages (from tensorflow>=2.0->deeplabcut) (2.6.0)\n",
      "Requirement already satisfied: termcolor~=1.1.0 in c:\\users\\ainho\\anaconda3\\envs\\deeplabcut\\lib\\site-packages (from tensorflow>=2.0->deeplabcut) (1.1.0)\n",
      "Requirement already satisfied: astunparse~=1.6.3 in c:\\users\\ainho\\anaconda3\\envs\\deeplabcut\\lib\\site-packages (from tensorflow>=2.0->deeplabcut) (1.6.3)\n",
      "Requirement already satisfied: h5py~=3.1.0 in c:\\users\\ainho\\anaconda3\\envs\\deeplabcut\\lib\\site-packages (from tensorflow>=2.0->deeplabcut) (3.1.0)\n",
      "Requirement already satisfied: tensorboard~=2.6 in c:\\users\\ainho\\anaconda3\\envs\\deeplabcut\\lib\\site-packages (from tensorflow>=2.0->deeplabcut) (2.7.0)\n",
      "Requirement already satisfied: matplotlib-inline in c:\\users\\ainho\\anaconda3\\envs\\deeplabcut\\lib\\site-packages (from ipython->deeplabcut) (0.1.3)\n",
      "Requirement already satisfied: pickleshare in c:\\users\\ainho\\anaconda3\\envs\\deeplabcut\\lib\\site-packages (from ipython->deeplabcut) (0.7.5)\n",
      "Requirement already satisfied: traitlets>=4.2 in c:\\users\\ainho\\anaconda3\\envs\\deeplabcut\\lib\\site-packages (from ipython->deeplabcut) (5.1.0)\n",
      "Requirement already satisfied: colorama in c:\\users\\ainho\\anaconda3\\envs\\deeplabcut\\lib\\site-packages (from ipython->deeplabcut) (0.4.4)\n",
      "Requirement already satisfied: jedi>=0.16 in c:\\users\\ainho\\anaconda3\\envs\\deeplabcut\\lib\\site-packages (from ipython->deeplabcut) (0.18.0)\n",
      "Requirement already satisfied: pygments in c:\\users\\ainho\\anaconda3\\envs\\deeplabcut\\lib\\site-packages (from ipython->deeplabcut) (2.10.0)\n",
      "Requirement already satisfied: setuptools>=18.5 in c:\\users\\ainho\\anaconda3\\envs\\deeplabcut\\lib\\site-packages (from ipython->deeplabcut) (58.2.0)\n",
      "Requirement already satisfied: decorator in c:\\users\\ainho\\anaconda3\\envs\\deeplabcut\\lib\\site-packages (from ipython->deeplabcut) (4.4.2)\n",
      "Requirement already satisfied: prompt-toolkit!=3.0.0,!=3.0.1,<3.1.0,>=2.0.0 in c:\\users\\ainho\\anaconda3\\envs\\deeplabcut\\lib\\site-packages (from ipython->deeplabcut) (3.0.20)\n",
      "Requirement already satisfied: backcall in c:\\users\\ainho\\anaconda3\\envs\\deeplabcut\\lib\\site-packages (from ipython->deeplabcut) (0.2.0)\n",
      "Requirement already satisfied: proglog<=1.0.0 in c:\\users\\ainho\\anaconda3\\envs\\deeplabcut\\lib\\site-packages (from moviepy->deeplabcut) (0.1.9)\n",
      "Requirement already satisfied: imageio-ffmpeg>=0.2.0 in c:\\users\\ainho\\anaconda3\\envs\\deeplabcut\\lib\\site-packages (from moviepy->deeplabcut) (0.4.5)\n",
      "Requirement already satisfied: requests<3.0,>=2.8.1 in c:\\users\\ainho\\anaconda3\\envs\\deeplabcut\\lib\\site-packages (from moviepy->deeplabcut) (2.26.0)\n",
      "Requirement already satisfied: llvmlite<0.38,>=0.37.0rc1 in c:\\users\\ainho\\anaconda3\\envs\\deeplabcut\\lib\\site-packages (from numba->deeplabcut) (0.37.0)\n",
      "Requirement already satisfied: joblib>=0.11 in c:\\users\\ainho\\anaconda3\\envs\\deeplabcut\\lib\\site-packages (from scikit-learn->deeplabcut) (1.1.0)\n",
      "Requirement already satisfied: threadpoolctl>=2.0.0 in c:\\users\\ainho\\anaconda3\\envs\\deeplabcut\\lib\\site-packages (from scikit-learn->deeplabcut) (3.0.0)\n",
      "Requirement already satisfied: numexpr>=2.6.2 in c:\\users\\ainho\\anaconda3\\envs\\deeplabcut\\lib\\site-packages (from tables->deeplabcut) (2.7.3)\n",
      "Requirement already satisfied: msgpack-numpy>=0.4.4.2 in c:\\users\\ainho\\anaconda3\\envs\\deeplabcut\\lib\\site-packages (from tensorpack->deeplabcut) (0.4.7.1)\n",
      "Requirement already satisfied: pyzmq>=16 in c:\\users\\ainho\\anaconda3\\envs\\deeplabcut\\lib\\site-packages (from tensorpack->deeplabcut) (22.3.0)\n",
      "Requirement already satisfied: msgpack>=0.5.2 in c:\\users\\ainho\\anaconda3\\envs\\deeplabcut\\lib\\site-packages (from tensorpack->deeplabcut) (1.0.2)\n",
      "Requirement already satisfied: psutil>=5 in c:\\users\\ainho\\anaconda3\\envs\\deeplabcut\\lib\\site-packages (from tensorpack->deeplabcut) (5.8.0)\n",
      "Requirement already satisfied: tabulate>=0.7.7 in c:\\users\\ainho\\anaconda3\\envs\\deeplabcut\\lib\\site-packages (from tensorpack->deeplabcut) (0.8.9)\n",
      "Requirement already satisfied: parso<0.9.0,>=0.8.0 in c:\\users\\ainho\\anaconda3\\envs\\deeplabcut\\lib\\site-packages (from jedi>=0.16->ipython->deeplabcut) (0.8.2)\n",
      "Requirement already satisfied: wcwidth in c:\\users\\ainho\\anaconda3\\envs\\deeplabcut\\lib\\site-packages (from prompt-toolkit!=3.0.0,!=3.0.1,<3.1.0,>=2.0.0->ipython->deeplabcut) (0.2.5)\n",
      "Requirement already satisfied: certifi>=2017.4.17 in c:\\users\\ainho\\anaconda3\\envs\\deeplabcut\\lib\\site-packages (from requests<3.0,>=2.8.1->moviepy->deeplabcut) (2021.10.8)\n",
      "Requirement already satisfied: urllib3<1.27,>=1.21.1 in c:\\users\\ainho\\anaconda3\\envs\\deeplabcut\\lib\\site-packages (from requests<3.0,>=2.8.1->moviepy->deeplabcut) (1.26.7)\n",
      "Requirement already satisfied: charset-normalizer~=2.0.0 in c:\\users\\ainho\\anaconda3\\envs\\deeplabcut\\lib\\site-packages (from requests<3.0,>=2.8.1->moviepy->deeplabcut) (2.0.7)\n",
      "Requirement already satisfied: idna<4,>=2.5 in c:\\users\\ainho\\anaconda3\\envs\\deeplabcut\\lib\\site-packages (from requests<3.0,>=2.8.1->moviepy->deeplabcut) (3.3)\n",
      "Requirement already satisfied: tensorboard-plugin-wit>=1.6.0 in c:\\users\\ainho\\anaconda3\\envs\\deeplabcut\\lib\\site-packages (from tensorboard~=2.6->tensorflow>=2.0->deeplabcut) (1.8.0)\n",
      "Requirement already satisfied: werkzeug>=0.11.15 in c:\\users\\ainho\\anaconda3\\envs\\deeplabcut\\lib\\site-packages (from tensorboard~=2.6->tensorflow>=2.0->deeplabcut) (2.0.2)\n",
      "Requirement already satisfied: google-auth<3,>=1.6.3 in c:\\users\\ainho\\anaconda3\\envs\\deeplabcut\\lib\\site-packages (from tensorboard~=2.6->tensorflow>=2.0->deeplabcut) (2.3.0)\n",
      "Requirement already satisfied: markdown>=2.6.8 in c:\\users\\ainho\\anaconda3\\envs\\deeplabcut\\lib\\site-packages (from tensorboard~=2.6->tensorflow>=2.0->deeplabcut) (3.3.4)\n",
      "Requirement already satisfied: google-auth-oauthlib<0.5,>=0.4.1 in c:\\users\\ainho\\anaconda3\\envs\\deeplabcut\\lib\\site-packages (from tensorboard~=2.6->tensorflow>=2.0->deeplabcut) (0.4.6)\n",
      "Requirement already satisfied: tensorboard-data-server<0.7.0,>=0.6.0 in c:\\users\\ainho\\anaconda3\\envs\\deeplabcut\\lib\\site-packages (from tensorboard~=2.6->tensorflow>=2.0->deeplabcut) (0.6.1)\n",
      "Requirement already satisfied: cachetools<5.0,>=2.0.0 in c:\\users\\ainho\\anaconda3\\envs\\deeplabcut\\lib\\site-packages (from google-auth<3,>=1.6.3->tensorboard~=2.6->tensorflow>=2.0->deeplabcut) (4.2.4)\n",
      "Requirement already satisfied: pyasn1-modules>=0.2.1 in c:\\users\\ainho\\anaconda3\\envs\\deeplabcut\\lib\\site-packages (from google-auth<3,>=1.6.3->tensorboard~=2.6->tensorflow>=2.0->deeplabcut) (0.2.8)\n",
      "Requirement already satisfied: rsa<5,>=3.1.4 in c:\\users\\ainho\\anaconda3\\envs\\deeplabcut\\lib\\site-packages (from google-auth<3,>=1.6.3->tensorboard~=2.6->tensorflow>=2.0->deeplabcut) (4.7.2)\n",
      "Requirement already satisfied: requests-oauthlib>=0.7.0 in c:\\users\\ainho\\anaconda3\\envs\\deeplabcut\\lib\\site-packages (from google-auth-oauthlib<0.5,>=0.4.1->tensorboard~=2.6->tensorflow>=2.0->deeplabcut) (1.3.0)\n",
      "Requirement already satisfied: pyasn1<0.5.0,>=0.4.6 in c:\\users\\ainho\\anaconda3\\envs\\deeplabcut\\lib\\site-packages (from pyasn1-modules>=0.2.1->google-auth<3,>=1.6.3->tensorboard~=2.6->tensorflow>=2.0->deeplabcut) (0.4.8)\n",
      "Requirement already satisfied: oauthlib>=3.0.0 in c:\\users\\ainho\\anaconda3\\envs\\deeplabcut\\lib\\site-packages (from requests-oauthlib>=0.7.0->google-auth-oauthlib<0.5,>=0.4.1->tensorboard~=2.6->tensorflow>=2.0->deeplabcut) (3.1.1)\n"
     ]
    }
   ],
   "source": [
    "#(this will take a few minutes to install all the dependences!)\n",
    "!pip install deeplabcut"
   ]
  },
  {
   "cell_type": "code",
   "execution_count": null,
   "id": "23a42b6a",
   "metadata": {},
   "outputs": [],
   "source": [
    "# Use TensorFlow 1.x:\n",
    "%tensorflow_version 1.x"
   ]
  },
  {
   "cell_type": "code",
   "execution_count": null,
   "id": "aff82016",
   "metadata": {},
   "outputs": [],
   "source": [
    "#Now, let's link to your GoogleDrive. Run this cell and follow the authorization instructions:\n",
    "#(We recommend putting a copy of the github repo in your google drive if you are using the demo \"examples\")\n",
    "\n",
    "from google.colab import drive\n",
    "drive.mount('/content/drive')"
   ]
  },
  {
   "cell_type": "code",
   "execution_count": null,
   "id": "ea0c6efd",
   "metadata": {},
   "outputs": [],
   "source": [
    "#Setup your project variables:\n",
    "# PLEASE EDIT THESE:\n",
    "  \n",
    "ProjectFolderName = 'mired_rata-ainhoa-2021-11-17' #cambiar por nombre de la carpeta\n",
    "VideoType = 'mp4' \n",
    "\n",
    "#don't edit these:\n",
    "videofile_path = ['/content/drive/My Drive/'+ProjectFolderName+'/videos/'] #Enter the list of videos or folder to analyze.\n",
    "videofile_path"
   ]
  },
  {
   "cell_type": "code",
   "execution_count": null,
   "id": "1ee3d193",
   "metadata": {},
   "outputs": [],
   "source": [
    "#GUIs don't work on the cloud, so label your data locally on your computer! This will suppress the GUI support\n",
    "import os\n",
    "os.environ[\"DLClight\"]=\"True\""
   ]
  },
  {
   "cell_type": "code",
   "execution_count": null,
   "id": "31e5078d",
   "metadata": {},
   "outputs": [],
   "source": [
    "import deeplabcut\n",
    "deeplabcut.__version__"
   ]
  },
  {
   "cell_type": "code",
   "execution_count": null,
   "id": "ea4ca48b",
   "metadata": {},
   "outputs": [],
   "source": [
    "#This creates a path variable that links to your google drive copy\n",
    "#No need to edit this, as you set it up before: \n",
    "path_config_file = '/content/drive/My Drive/'+ProjectFolderName+'/config.yaml'\n",
    "path_config_file"
   ]
  },
  {
   "cell_type": "markdown",
   "id": "f48debae",
   "metadata": {},
   "source": [
    "# CREATING A TRAINING DATASET"
   ]
  },
  {
   "cell_type": "code",
   "execution_count": null,
   "id": "ccf6eefb",
   "metadata": {},
   "outputs": [],
   "source": [
    "#check the docstring for full options you can do!\n",
    "#num_shuffles --> If the user wishes to benchmark the performance of the DeepLabCut, they can create multiple\n",
    "#training datasets by specifying an integer value to the num_shuffles.\n",
    "deeplabcut.create_training_dataset(path_config_file, net_type='resnet_50', augmenter_type='imgaug', num_shuffles=1)\n",
    "#cada it de creation_dataset crea un archivo .mat y .pickle (contiene meta info).\n",
    "#se crean tambien subdirectorios train y test con pose_cfg.yaml (editar el de train andtes de empezar funcion training)\n",
    " "
   ]
  },
  {
   "cell_type": "markdown",
   "id": "232ed690",
   "metadata": {},
   "source": [
    "# TRAINING THE NETWORK"
   ]
  },
  {
   "cell_type": "code",
   "execution_count": null,
   "id": "b7c9049e",
   "metadata": {},
   "outputs": [],
   "source": [
    "#Tiempo estimado:  NVIDIA GeForce GTX 1080 Ti GPU, it takes ≈ 6 hrs to train the network for at least 200,000 iterations \n",
    "#let's also change the display and save_iters just in case Colab takes away the GPU... \n",
    "#if that happens, you can reload from a saved point. Typically, you want to train to 200,000 + iterations.\n",
    "\n",
    "#shuffle: Integer value specifying the shuffle index to select for training. Default is set to 1\n",
    "#trainingsetindex: Integer specifying which Training set Fraction to use. By default the first (note that Training Fraction is a list in config.yaml).\n",
    "#gputouse: Natural number indicating the number of your GPU (see number in nvidia-smi). If you do not have a GPU put None\n",
    "#max_snapshots_to_keep: This sets how many snapshots are kept, i.e. states of the trained network. Every saving iteration a snapshot is stored, however only the last max_snapshots_to_keep many are kept! If you change this to None, then all are kept.\n",
    "#autotune: property of TensorFlow, tested to be faster if set to ’False’ (default)\n",
    "#displayiters: this variable is actually set in pose_config.yaml. However, you can overwrite it with this. If None, the value from pose_config.yaml is used, otherwise it is overwritten! Default: None\n",
    "#saveiters: this variable is set in pose_config.yaml. However, you can overwrite it with this. If None, the value from there is used, otherwise it is overwritten! Default: None\n",
    "#batch_size: (default 1) This specifies how many frames to process at once during inference\n",
    "\n",
    "deeplabcut.train_network(path_config_file, shuffle=1, displayiters=100,saveiters=500)\n",
    "#this will run until you stop it (CTRL+C), or hit \"STOP\" icon, or when it hits the end (default, 1.03M iterations). \n",
    "#Whichever you chose, you will see what looks like an error message, but it's not an error - don't worry....\n",
    "#weights de TF en subdirect \\models\\pre-trained\\Pose_Estimation_Tensorflow"
   ]
  },
  {
   "cell_type": "markdown",
   "id": "26b3e357",
   "metadata": {},
   "source": [
    "If the user wishes to restart the training at a specific\n",
    "checkpoint they can specify the full path of the checkpoint to the variable ‘init_weights’ in the pose_cfg.yaml file\n",
    "under the ‘train’ subdirectory \n",
    "#init_weights: /content/drive/MyDrive/mired_rata-ainhoa-2021-11-17/dlc-models/iteration-1/mired_rataNov17-trainset95shuffle1/train/snapshot-120 (por ejemplo)\n"
   ]
  },
  {
   "cell_type": "markdown",
   "id": "169d4fe6",
   "metadata": {},
   "source": [
    "# EVALUATING THE NETWORK\n",
    "This funtion evaluates a trained model for a specific shuffle/shuffles at a particular state or all the states on the data set (images) and stores the results as .csv file in a subdirectory under evaluation-results\n",
    "The plots can be customized by editing the config.yaml file (i.e. the colormap, scale, marker size (dotsize), and\n",
    "transparency of labels (alphavalue) can be modified).\n",
    "Note that by default the human labels are\n",
    "plotted as plus (‘+’), DeepLabCut’s predictions either as ‘.’ (for confident predictions with likelihood > p-cutoff) and\n",
    "’x’ for (likelihood <= p-cutoff)."
   ]
  },
  {
   "cell_type": "code",
   "execution_count": null,
   "id": "44315080",
   "metadata": {},
   "outputs": [],
   "source": [
    "%matplotlib notebook\n",
    "deeplabcut.evaluate_network(path_config_file,shuffle=[1],plotting=True)\n",
    "\n",
    "# Here you want to see a low pixel error! Of course, it can only be as good as the labeler, \n",
    "#so be sure your labels are good! (And you have trained enough ;)"
   ]
  },
  {
   "cell_type": "markdown",
   "id": "345f43a4",
   "metadata": {},
   "source": [
    "# # OPTIONAL REFINEMENT STEP (OUTSIDE COLAB)\n",
    "## There is an optional refinement step you can do outside of Colab:\n",
    "If your pixel errors are not low enough, please check out the protocol guide on how to refine your network!\n",
    "You will need to adjust the labels **outside of Colab!** We recommend coming back to train and analyze videos... \n",
    "Please see the repo and protocol instructions on how to refine your data!"
   ]
  },
  {
   "cell_type": "markdown",
   "id": "3fc06d1d",
   "metadata": {},
   "source": [
    "# VIDEO ANALYSIS\n",
    "The user needs to first choose a checkpoint with the best\n",
    "evaluation results for analyzing the videos. In this case, the user can enter the corresponding index of the checkpoint\n",
    "to the variable snapshotindex in the config.yaml file. By default, the most recent checkpoint (i.e. last) is used for\n",
    "analyzing the video. "
   ]
  },
  {
   "cell_type": "code",
   "execution_count": null,
   "id": "30e865dc",
   "metadata": {},
   "outputs": [],
   "source": [
    "deeplabcut.analyze_videos(path_config_file,videofile_path, videotype=VideoType, shuffle=1, save_as_csv=True)"
   ]
  },
  {
   "cell_type": "markdown",
   "id": "05b0ffbd",
   "metadata": {},
   "source": [
    "The labels are stored in a MultiIndex Pandas Array ([41], http://pandas.pydata.org), which contains the name\n",
    "of the network, body part name, (x, y) label position in pixels, and the likelihood for each frame per body part.\n",
    " if the flag save_as_csv is set to True, the data can also be exported in comma-separated values format\n",
    "(.csv), which in turn can be imported in many programs, such as MATLAB, R, Prism, etc."
   ]
  },
  {
   "cell_type": "markdown",
   "id": "3b10a0a9",
   "metadata": {},
   "source": [
    "# CREATE LABELED VIDEO\n",
    "This funtion is for visualiztion purpose and can be used to create a video in .mp4 format with labels predicted by the network. This video is saved in the same directory where the original video resides."
   ]
  },
  {
   "cell_type": "code",
   "execution_count": null,
   "id": "673ea3c7",
   "metadata": {},
   "outputs": [],
   "source": [
    "#editar dotsize label en config.yaml\n",
    "deeplabcut.create_labeled_video(path_config_file,videofile_path, videotype=VideoType)"
   ]
  }
 ],
 "metadata": {
  "kernelspec": {
   "display_name": "Python 3",
   "language": "python",
   "name": "python3"
  },
  "language_info": {
   "codemirror_mode": {
    "name": "ipython",
    "version": 3
   },
   "file_extension": ".py",
   "mimetype": "text/x-python",
   "name": "python",
   "nbconvert_exporter": "python",
   "pygments_lexer": "ipython3",
   "version": "3.8.12"
  },
  "widgets": {
   "application/vnd.jupyter.widget-state+json": {
    "state": {},
    "version_major": 2,
    "version_minor": 0
   }
  }
 },
 "nbformat": 4,
 "nbformat_minor": 5
}
